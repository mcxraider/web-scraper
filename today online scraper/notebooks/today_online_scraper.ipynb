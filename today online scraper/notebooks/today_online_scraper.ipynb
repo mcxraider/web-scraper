{
 "cells": [
  {
   "cell_type": "code",
   "execution_count": 63,
   "metadata": {},
   "outputs": [],
   "source": [
    "# Import necessary libraries and modules\n",
    "import os \n",
    "import re \n",
    "import requests \n",
    "from newspaper import Article \n",
    "from bs4 import BeautifulSoup \n",
    "from selenium import webdriver \n",
    "from selenium.webdriver.common.keys import Keys\n",
    "from selenium.webdriver.common.by import By \n",
    "from selenium.webdriver.chrome.options import Options \n",
    "from selenium.common.exceptions import NoSuchElementException\n",
    "from selenium.webdriver.common.action_chains import ActionChains \n",
    "import time\n",
    "import json\n",
    "from tqdm import trange\n"
   ]
  },
  {
   "cell_type": "code",
   "execution_count": 64,
   "metadata": {},
   "outputs": [],
   "source": [
    "options = Options()\n",
    "options.add_argument(\"--headless=new\")\n",
    "driver = webdriver.Chrome(options=options)\n",
    "driver.maximize_window()\n",
    "base_url = \"https://www.todayonline.com/\""
   ]
  },
  {
   "cell_type": "code",
   "execution_count": 65,
   "metadata": {},
   "outputs": [],
   "source": [
    "# Want the article body, summary, and URL\n",
    "scraped_articles = {}"
   ]
  },
  {
   "cell_type": "code",
   "execution_count": 66,
   "metadata": {},
   "outputs": [],
   "source": [
    "# Function to navigate to a specific category URL\n",
    "def go_to_category(driver, category_URL):\n",
    "    driver.get(category_URL)"
   ]
  },
  {
   "cell_type": "code",
   "execution_count": 67,
   "metadata": {},
   "outputs": [],
   "source": [
    "def scrape_categories(driver, base_url):\n",
    "    driver.get(base_url)\n",
    "    time.sleep(2)\n",
    "        \n",
    "    try:\n",
    "        navbar_items = driver.find_elements(By.CSS_SELECTOR, \"li.main-menu__item a.main-menu__link\")\n",
    "        exclude = ['watch, myfeed']\n",
    "        sub_cats = []\n",
    "        for item in navbar_items:\n",
    "            heading = item.get_attribute(\"href\").split('/')[-1]\n",
    "            if heading not in exclude:\n",
    "                sub_cats.append(heading)\n",
    "    except Exception as e:\n",
    "        print(f\"Error extracting sub category: {e}\")\n",
    "    sub_cats.remove('watch')\n",
    "    sub_cats.remove('myfeed')\n",
    "    return sub_cats"
   ]
  },
  {
   "cell_type": "code",
   "execution_count": 68,
   "metadata": {},
   "outputs": [],
   "source": [
    "# # Function to gather article URLs from a category page\n",
    "def gather_article_urls(driver):\n",
    "    urls = []\n",
    "    article_cards = driver.find_elements(By.CLASS_NAME, \"card-object__figure\")\n",
    "    for card in article_cards:\n",
    "        try:\n",
    "            article_link = card.find_element(By.CLASS_NAME, \"link\")\n",
    "            url = article_link.get_attribute(\"href\")\n",
    "            urls.append(url)\n",
    "        except Exception as e:\n",
    "            print(f\"Error finding article URL: {e}\")\n",
    "    return urls\n",
    "\n",
    "# Function to scrape articles from gathered URLs\n",
    "def scrape_articles(driver, urls, sub_url):\n",
    "    sub_url_ls = []\n",
    "    for url in urls:\n",
    "        sub_url_hash = {}\n",
    "        sub_url_hash[\"Article URL\"] = url\n",
    "        try:\n",
    "                # Navigate to the article page\n",
    "                driver.get(url)\n",
    "                time.sleep(2)  # Waiting for the page to load\n",
    "\n",
    "                # Get article summaries\n",
    "                summary_elements = driver.find_elements(By.CSS_SELECTOR, \"div.text-long ul li\")\n",
    "                summary_texts = [li.text for li in summary_elements]\n",
    "                Combined_Summary = \".\\n\".join(summary_texts)\n",
    "                if len(Combined_Summary) == 0:\n",
    "                    sub_url_hash[\"Article Summary\"] = 'NO SUMMARY'\n",
    "                else:\n",
    "                    sub_url_hash[\"Article Summary\"] = Combined_Summary\n",
    "\n",
    "                # Get article body\n",
    "                try:\n",
    "                    paragraphs = driver.find_elements(By.CSS_SELECTOR, \"div.text-long p\")\n",
    "                    body = \"\\n\".join([p.text for p in paragraphs])\n",
    "                    sub_url_hash['Article Body'] = body\n",
    "                except Exception as e:\n",
    "                    sub_url_hash['Article Body'] = None\n",
    "                    print(\"Body paragraphs not extracted\")\n",
    "\n",
    "        except Exception as e:\n",
    "                print(f\"Error scraping article: {e}\")\n",
    "        sub_url_ls.append(sub_url_hash)\n",
    "        \n",
    "    section = f\"{sub_url} section\"\n",
    "    scraped_articles[section] = sub_url_ls"
   ]
  },
  {
   "cell_type": "code",
   "execution_count": 69,
   "metadata": {},
   "outputs": [],
   "source": []
  },
  {
   "cell_type": "code",
   "execution_count": null,
   "metadata": {},
   "outputs": [],
   "source": [
    "def main():\n",
    "    driver.get(base_url)\n",
    "    time.sleep(2)  # Wait for the page to load\n",
    "    category_sub_URLs = scrape_categories(driver, base_url)\n",
    "    for i in trange(len(category_sub_URLs)):\n",
    "        print(f'Collecting data for {category_sub_URLs[i]} section...')\n",
    "        full_category_url = f\"{base_url}{category_sub_URLs[i]}\"\n",
    "        go_to_category(driver, full_category_url)\n",
    "        urls = gather_article_urls(driver)\n",
    "        scrape_articles(driver, urls, category_sub_URLs[i])\n",
    "        print(f\"Done collecting data for {category_sub_URLs[i]} section...\\n\")\n",
    "    # Close the driver after scraping\n",
    "    driver.quit()\n",
    "    # Write files to json \n",
    "    with open(\"today_online/articles.json\", \"w\", encoding='utf-8') as fout:\n",
    "        json.dump(scraped_articles, fout, indent=4, ensure_ascii=False)"
   ]
  },
  {
   "cell_type": "code",
   "execution_count": 71,
   "metadata": {},
   "outputs": [
    {
     "data": {
      "text/plain": [
       "{'news section': [{'Article URL': 'https://www.todayonline.com/news/brazen-man-jail-attempted-rape-molest-step-daughter-2431821',\n",
       "   'Article Summary': 'For the attempted rape of his step-daughter, a 41-year-old man was sentenced to jail and caning.\\nHe also molested the girl in the bedroom where his other young children were present.\\nThe victim was aged 11 to 14 during the period when these happened',\n",
       "   'Article Body': \"SINGAPORE — A 41-year-old man was sentenced to six years and seven months’ jail and eight strokes of the cane on Wednesday (May 29) for the attempted rape and molestation of his step-daughter, then aged 11 or 12.\\nThe man pleaded guilty to aggravated attempted rape of a person aged under 14, as well as outrage of modesty.\\nBoth the offender and his victim cannot be named due to a court order to protect the victim’s identity.\\nThe man's sentence was backdated to his date of arrest on May 18 last year.\\nCourt documents showed that the man had been in a romantic relationship with the victim’s biological mother since 2004, and later moved in together with them and lived as a family.\\nThe victim, who was between five and six years old then, treated the man like a father figure.\\nThey moved houses multiple times over the years — in 2010, they moved in with the man’s parents in the Chua Chu Kang district and later moved to a rented bedroom of a flat in Geylang in 2013.\\nThe man and the victim’s mother registered their marriage in 2015.\\nThey have four other children born between 2005 and 2013.\\nSometime between 2010 and 2011 at about 2am to 3am, when the rest of the family was asleep in the living room of their home, the man woke up the victim and took her to the kitchen toilet.\\nHe did so knowing that the victim, who was aged between 11 and 12 at the time, was quiet in nature and would follow his instructions.\\nThe man tried to have sex with her but failed to do so after multiple attempts. He then sexually abused her.\\nIn September 2013, when the victim was 14 years old, the man struck again to molest her when they were in the bedroom.\\nMost of the victim's step-siblings were watching television in the same room when it happened.\\nThe victim’s mother was not there.\\nIn April 2014, when the man was sent to jail for separate offences, the girl realised that the sexual acts committed by him were wrong and confided to her mother about what had happened.\\nCourt documents did not specify the nature of the offences for which the man was jailed at this time.\\nThe girl later ran away from home and said that she was too scared to go home because the man would soon be released from prison, court documents stated.\\nThe victim’s mother filed a police report in May last year, on the advice of a social worker.\\nThe man was arrested the same month.\\nOn Wednesday, Deputy Public Prosecutor (DPP) Daphne Lim sought a jail sentence of between seven years, three months and seven years, five months — together with nine strokes of the cane.\\nShe told the court that the man had abused the trust and authority of being a father-figure to the victim and sexually exploited the victim.\\n“The man had also brazenly molested the victim in the presence of his other young children, at her home, where she should have been the safest,” DPP Lim added.\\nIn mitigation, defence counsel Michelle Tang from law firm Nakoorsha Law said that the man had pleaded guilty early, sparing the victim from more suffering of testifying in court if the case had gone to trial.\\nMs Tang also said that the victim had since forgiven the man for what he did.\\nDistrict Judge Koo Zhi Xuan said that the sentence imposed was proportionate to the man’s criminality.\\n“It is a reminder that we live in a society that cannot tolerate any form of abuse against young and vulnerable victims, especially from someone they trust.”\\nFor the attempted rape of a person under the age of 14, the man could have been jailed for between eight and 20 years and received at least 12 strokes of the cane.\\nFor outrage of modesty, he could have been jailed for up to three years, fined, caned or been given any combination of such punishments.\"}]}"
      ]
     },
     "execution_count": 71,
     "metadata": {},
     "output_type": "execute_result"
    }
   ],
   "source": [
    "scraped_articles"
   ]
  },
  {
   "cell_type": "code",
   "execution_count": 72,
   "metadata": {},
   "outputs": [],
   "source": [
    "with open(\"today_online/articles.json\", \"w\", encoding='utf-8') as fout:\n",
    "    json.dump(scraped_articles, fout, indent=4, ensure_ascii=False)"
   ]
  },
  {
   "cell_type": "code",
   "execution_count": null,
   "metadata": {},
   "outputs": [],
   "source": []
  }
 ],
 "metadata": {
  "kernelspec": {
   "display_name": "py310",
   "language": "python",
   "name": "python3"
  },
  "language_info": {
   "codemirror_mode": {
    "name": "ipython",
    "version": 3
   },
   "file_extension": ".py",
   "mimetype": "text/x-python",
   "name": "python",
   "nbconvert_exporter": "python",
   "pygments_lexer": "ipython3",
   "version": "3.10.0"
  }
 },
 "nbformat": 4,
 "nbformat_minor": 2
}
