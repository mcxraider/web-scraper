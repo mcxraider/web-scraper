{
 "cells": [
  {
   "cell_type": "code",
   "execution_count": 79,
   "metadata": {},
   "outputs": [],
   "source": [
    "# Import necessary libraries and modules\n",
    "import os \n",
    "import re \n",
    "import requests \n",
    "from newspaper import Article \n",
    "from bs4 import BeautifulSoup \n",
    "from selenium import webdriver \n",
    "from selenium.webdriver.common.keys import Keys\n",
    "from selenium.webdriver.common.by import By \n",
    "from selenium.webdriver.chrome.options import Options \n",
    "from selenium.common.exceptions import NoSuchElementException\n",
    "from selenium.webdriver.common.action_chains import ActionChains \n",
    "import time"
   ]
  },
  {
   "cell_type": "code",
   "execution_count": 80,
   "metadata": {},
   "outputs": [],
   "source": [
    "options = Options()\n",
    "options.add_argument(\"--headless=new\")\n",
    "driver = webdriver.Chrome(options=options)\n",
    "driver.maximize_window()\n",
    "base_url = \"https://www.todayonline.com/\""
   ]
  },
  {
   "cell_type": "code",
   "execution_count": 81,
   "metadata": {},
   "outputs": [],
   "source": [
    "# Want the article body, summary, and URL\n",
    "article_body = {}\n",
    "# Note some articles may not have summaries\n",
    "article_summaries = {}\n",
    "article_urls = {}"
   ]
  },
  {
   "cell_type": "code",
   "execution_count": 82,
   "metadata": {},
   "outputs": [],
   "source": [
    "# Function to navigate to a specific category URL\n",
    "def go_to_category(driver, category_URL):\n",
    "    driver.get(category_URL)"
   ]
  },
  {
   "cell_type": "code",
   "execution_count": 83,
   "metadata": {},
   "outputs": [],
   "source": [
    "def scrape_categories(driver, base_url):\n",
    "    driver.get(base_url)\n",
    "    time.sleep(2)\n",
    "        \n",
    "    try:\n",
    "        navbar_items = driver.find_elements(By.CSS_SELECTOR, \"li.main-menu__item a.main-menu__link\")\n",
    "        exclude = ['watch, myfeed']\n",
    "        sub_cats = []\n",
    "        for item in navbar_items:\n",
    "            heading = item.get_attribute(\"href\").split('/')[-1]\n",
    "            if heading not in exclude:\n",
    "                sub_cats.append(heading)\n",
    "    except Exception as e:\n",
    "        print(f\"Error extracting sub category: {e}\")\n",
    "    sub_cats.remove('watch')\n",
    "    sub_cats.remove('myfeed')\n",
    "    return sub_cats\n"
   ]
  },
  {
   "cell_type": "code",
   "execution_count": 87,
   "metadata": {},
   "outputs": [],
   "source": [
    "from tqdm import trange\n",
    "\n",
    "# Function to gather article URLs from a category page\n",
    "def gather_article_urls(driver):\n",
    "    urls = []\n",
    "    article_cards = driver.find_elements(By.CLASS_NAME, \"card-object__figure\")\n",
    "    for card in article_cards:\n",
    "        try:\n",
    "            article_link = card.find_element(By.CLASS_NAME, \"link\")\n",
    "            url = article_link.get_attribute(\"href\")\n",
    "            urls.append(url)\n",
    "        except Exception as e:\n",
    "            print(f\"Error finding article URL: {e}\")\n",
    "    return urls\n",
    "\n",
    "# Function to scrape articles from gathered URLs\n",
    "def scrape_articles(driver, urls):\n",
    "    for i in trange(len(urls)):\n",
    "            try:\n",
    "                # Navigate to the article page\n",
    "                driver.get(urls[i])\n",
    "                time.sleep(2)  # Wait for the page to load\n",
    "\n",
    "                # Get article summaries\n",
    "                try:\n",
    "                    summary_elements = driver.find_elements(By.CSS_SELECTOR, \"div.text-long ul li\")\n",
    "                    summary_texts = [li.text for li in summary_elements]\n",
    "                    if not summary_texts:\n",
    "                        article_summaries[urls[i]] = 'No Summary Found'\n",
    "                    article_summaries[urls[i]] = \"\\n\".join(summary_texts)\n",
    "                    print(\"Article Summary extracted\")\n",
    "                except Exception as e:\n",
    "                    article_summaries[urls[i]] = None\n",
    "                    print(\"No summary to be found\")\n",
    "\n",
    "                # Get article body\n",
    "                try:\n",
    "                    paragraphs = driver.find_elements(By.CSS_SELECTOR, \"div.text-long p\")\n",
    "                    body = \"\\n\".join([p.text for p in paragraphs])\n",
    "                    article_body[urls[i]] = body\n",
    "                    print(\"Article Body extracted\")\n",
    "                except Exception as e:\n",
    "                    article_body[urls[i]] = None\n",
    "                    print(\"Body paragraphs not extracted\")\n",
    "\n",
    "            except Exception as e:\n",
    "                print(f\"Error scraping article: {e}\")\n"
   ]
  },
  {
   "cell_type": "markdown",
   "metadata": {},
   "source": [
    "Summaries:\n",
    "class='text-long', go into <ul> then go in to each <li> then go into <strong>\n",
    "\n",
    "article_body = \n",
    "\n"
   ]
  },
  {
   "cell_type": "code",
   "execution_count": 85,
   "metadata": {},
   "outputs": [],
   "source": [
    "driver.get(base_url)\n",
    "time.sleep(2)  # Wait for the page to load\n",
    "\n",
    "category_sub_URLs = scrape_categories(driver, base_url)"
   ]
  },
  {
   "cell_type": "code",
   "execution_count": 88,
   "metadata": {},
   "outputs": [
    {
     "name": "stderr",
     "output_type": "stream",
     "text": [
      "  4%|▍         | 1/26 [00:03<01:27,  3.49s/it]"
     ]
    },
    {
     "name": "stdout",
     "output_type": "stream",
     "text": [
      "Article Summary extracted\n",
      "Article Body extracted\n"
     ]
    },
    {
     "name": "stderr",
     "output_type": "stream",
     "text": [
      "  8%|▊         | 2/26 [00:07<01:25,  3.54s/it]"
     ]
    },
    {
     "name": "stdout",
     "output_type": "stream",
     "text": [
      "Article Summary extracted\n",
      "Article Body extracted\n"
     ]
    },
    {
     "name": "stderr",
     "output_type": "stream",
     "text": [
      " 12%|█▏        | 3/26 [00:10<01:22,  3.58s/it]"
     ]
    },
    {
     "name": "stdout",
     "output_type": "stream",
     "text": [
      "Article Summary extracted\n",
      "Article Body extracted\n"
     ]
    },
    {
     "name": "stderr",
     "output_type": "stream",
     "text": [
      " 15%|█▌        | 4/26 [00:14<01:18,  3.55s/it]"
     ]
    },
    {
     "name": "stdout",
     "output_type": "stream",
     "text": [
      "Article Summary extracted\n",
      "Article Body extracted\n"
     ]
    },
    {
     "name": "stderr",
     "output_type": "stream",
     "text": [
      " 19%|█▉        | 5/26 [00:17<01:13,  3.52s/it]"
     ]
    },
    {
     "name": "stdout",
     "output_type": "stream",
     "text": [
      "Article Summary extracted\n",
      "Article Body extracted\n",
      "Article Summary extracted\n"
     ]
    },
    {
     "name": "stderr",
     "output_type": "stream",
     "text": [
      " 23%|██▎       | 6/26 [00:23<01:25,  4.26s/it]"
     ]
    },
    {
     "name": "stdout",
     "output_type": "stream",
     "text": [
      "Article Body extracted\n"
     ]
    },
    {
     "name": "stderr",
     "output_type": "stream",
     "text": [
      " 23%|██▎       | 6/26 [00:24<01:20,  4.02s/it]\n"
     ]
    },
    {
     "ename": "KeyboardInterrupt",
     "evalue": "",
     "output_type": "error",
     "traceback": [
      "\u001b[0;31m---------------------------------------------------------------------------\u001b[0m",
      "\u001b[0;31mKeyboardInterrupt\u001b[0m                         Traceback (most recent call last)",
      "Cell \u001b[0;32mIn[88], line 5\u001b[0m\n\u001b[1;32m      3\u001b[0m     go_to_category(driver, full_category_url)\n\u001b[1;32m      4\u001b[0m     urls \u001b[38;5;241m=\u001b[39m gather_article_urls(driver)\n\u001b[0;32m----> 5\u001b[0m     \u001b[43mscrape_articles\u001b[49m\u001b[43m(\u001b[49m\u001b[43mdriver\u001b[49m\u001b[43m,\u001b[49m\u001b[43m \u001b[49m\u001b[43murls\u001b[49m\u001b[43m)\u001b[49m\n\u001b[1;32m      6\u001b[0m     \u001b[38;5;28;01mbreak\u001b[39;00m \n\u001b[1;32m      8\u001b[0m \u001b[38;5;66;03m# Close the driver after scraping\u001b[39;00m\n",
      "Cell \u001b[0;32mIn[87], line 21\u001b[0m, in \u001b[0;36mscrape_articles\u001b[0;34m(driver, urls)\u001b[0m\n\u001b[1;32m     18\u001b[0m \u001b[38;5;28;01mfor\u001b[39;00m i \u001b[38;5;129;01min\u001b[39;00m trange(\u001b[38;5;28mlen\u001b[39m(urls)):\n\u001b[1;32m     19\u001b[0m         \u001b[38;5;28;01mtry\u001b[39;00m:\n\u001b[1;32m     20\u001b[0m             \u001b[38;5;66;03m# Navigate to the article page\u001b[39;00m\n\u001b[0;32m---> 21\u001b[0m             \u001b[43mdriver\u001b[49m\u001b[38;5;241;43m.\u001b[39;49m\u001b[43mget\u001b[49m\u001b[43m(\u001b[49m\u001b[43murls\u001b[49m\u001b[43m[\u001b[49m\u001b[43mi\u001b[49m\u001b[43m]\u001b[49m\u001b[43m)\u001b[49m\n\u001b[1;32m     22\u001b[0m             time\u001b[38;5;241m.\u001b[39msleep(\u001b[38;5;241m2\u001b[39m)  \u001b[38;5;66;03m# Wait for the page to load\u001b[39;00m\n\u001b[1;32m     24\u001b[0m             \u001b[38;5;66;03m# Get article summaries\u001b[39;00m\n",
      "File \u001b[0;32m~/pythonenv/py310/lib/python3.10/site-packages/selenium/webdriver/remote/webdriver.py:356\u001b[0m, in \u001b[0;36mWebDriver.get\u001b[0;34m(self, url)\u001b[0m\n\u001b[1;32m    354\u001b[0m \u001b[38;5;28;01mdef\u001b[39;00m \u001b[38;5;21mget\u001b[39m(\u001b[38;5;28mself\u001b[39m, url: \u001b[38;5;28mstr\u001b[39m) \u001b[38;5;241m-\u001b[39m\u001b[38;5;241m>\u001b[39m \u001b[38;5;28;01mNone\u001b[39;00m:\n\u001b[1;32m    355\u001b[0m \u001b[38;5;250m    \u001b[39m\u001b[38;5;124;03m\"\"\"Loads a web page in the current browser session.\"\"\"\u001b[39;00m\n\u001b[0;32m--> 356\u001b[0m     \u001b[38;5;28;43mself\u001b[39;49m\u001b[38;5;241;43m.\u001b[39;49m\u001b[43mexecute\u001b[49m\u001b[43m(\u001b[49m\u001b[43mCommand\u001b[49m\u001b[38;5;241;43m.\u001b[39;49m\u001b[43mGET\u001b[49m\u001b[43m,\u001b[49m\u001b[43m \u001b[49m\u001b[43m{\u001b[49m\u001b[38;5;124;43m\"\u001b[39;49m\u001b[38;5;124;43murl\u001b[39;49m\u001b[38;5;124;43m\"\u001b[39;49m\u001b[43m:\u001b[49m\u001b[43m \u001b[49m\u001b[43murl\u001b[49m\u001b[43m}\u001b[49m\u001b[43m)\u001b[49m\n",
      "File \u001b[0;32m~/pythonenv/py310/lib/python3.10/site-packages/selenium/webdriver/remote/webdriver.py:345\u001b[0m, in \u001b[0;36mWebDriver.execute\u001b[0;34m(self, driver_command, params)\u001b[0m\n\u001b[1;32m    342\u001b[0m     \u001b[38;5;28;01melif\u001b[39;00m \u001b[38;5;124m\"\u001b[39m\u001b[38;5;124msessionId\u001b[39m\u001b[38;5;124m\"\u001b[39m \u001b[38;5;129;01mnot\u001b[39;00m \u001b[38;5;129;01min\u001b[39;00m params:\n\u001b[1;32m    343\u001b[0m         params[\u001b[38;5;124m\"\u001b[39m\u001b[38;5;124msessionId\u001b[39m\u001b[38;5;124m\"\u001b[39m] \u001b[38;5;241m=\u001b[39m \u001b[38;5;28mself\u001b[39m\u001b[38;5;241m.\u001b[39msession_id\n\u001b[0;32m--> 345\u001b[0m response \u001b[38;5;241m=\u001b[39m \u001b[38;5;28;43mself\u001b[39;49m\u001b[38;5;241;43m.\u001b[39;49m\u001b[43mcommand_executor\u001b[49m\u001b[38;5;241;43m.\u001b[39;49m\u001b[43mexecute\u001b[49m\u001b[43m(\u001b[49m\u001b[43mdriver_command\u001b[49m\u001b[43m,\u001b[49m\u001b[43m \u001b[49m\u001b[43mparams\u001b[49m\u001b[43m)\u001b[49m\n\u001b[1;32m    346\u001b[0m \u001b[38;5;28;01mif\u001b[39;00m response:\n\u001b[1;32m    347\u001b[0m     \u001b[38;5;28mself\u001b[39m\u001b[38;5;241m.\u001b[39merror_handler\u001b[38;5;241m.\u001b[39mcheck_response(response)\n",
      "File \u001b[0;32m~/pythonenv/py310/lib/python3.10/site-packages/selenium/webdriver/remote/remote_connection.py:302\u001b[0m, in \u001b[0;36mRemoteConnection.execute\u001b[0;34m(self, command, params)\u001b[0m\n\u001b[1;32m    300\u001b[0m trimmed \u001b[38;5;241m=\u001b[39m \u001b[38;5;28mself\u001b[39m\u001b[38;5;241m.\u001b[39m_trim_large_entries(params)\n\u001b[1;32m    301\u001b[0m LOGGER\u001b[38;5;241m.\u001b[39mdebug(\u001b[38;5;124m\"\u001b[39m\u001b[38;5;132;01m%s\u001b[39;00m\u001b[38;5;124m \u001b[39m\u001b[38;5;132;01m%s\u001b[39;00m\u001b[38;5;124m \u001b[39m\u001b[38;5;132;01m%s\u001b[39;00m\u001b[38;5;124m\"\u001b[39m, command_info[\u001b[38;5;241m0\u001b[39m], url, \u001b[38;5;28mstr\u001b[39m(trimmed))\n\u001b[0;32m--> 302\u001b[0m \u001b[38;5;28;01mreturn\u001b[39;00m \u001b[38;5;28;43mself\u001b[39;49m\u001b[38;5;241;43m.\u001b[39;49m\u001b[43m_request\u001b[49m\u001b[43m(\u001b[49m\u001b[43mcommand_info\u001b[49m\u001b[43m[\u001b[49m\u001b[38;5;241;43m0\u001b[39;49m\u001b[43m]\u001b[49m\u001b[43m,\u001b[49m\u001b[43m \u001b[49m\u001b[43murl\u001b[49m\u001b[43m,\u001b[49m\u001b[43m \u001b[49m\u001b[43mbody\u001b[49m\u001b[38;5;241;43m=\u001b[39;49m\u001b[43mdata\u001b[49m\u001b[43m)\u001b[49m\n",
      "File \u001b[0;32m~/pythonenv/py310/lib/python3.10/site-packages/selenium/webdriver/remote/remote_connection.py:322\u001b[0m, in \u001b[0;36mRemoteConnection._request\u001b[0;34m(self, method, url, body)\u001b[0m\n\u001b[1;32m    319\u001b[0m     body \u001b[38;5;241m=\u001b[39m \u001b[38;5;28;01mNone\u001b[39;00m\n\u001b[1;32m    321\u001b[0m \u001b[38;5;28;01mif\u001b[39;00m \u001b[38;5;28mself\u001b[39m\u001b[38;5;241m.\u001b[39mkeep_alive:\n\u001b[0;32m--> 322\u001b[0m     response \u001b[38;5;241m=\u001b[39m \u001b[38;5;28;43mself\u001b[39;49m\u001b[38;5;241;43m.\u001b[39;49m\u001b[43m_conn\u001b[49m\u001b[38;5;241;43m.\u001b[39;49m\u001b[43mrequest\u001b[49m\u001b[43m(\u001b[49m\u001b[43mmethod\u001b[49m\u001b[43m,\u001b[49m\u001b[43m \u001b[49m\u001b[43murl\u001b[49m\u001b[43m,\u001b[49m\u001b[43m \u001b[49m\u001b[43mbody\u001b[49m\u001b[38;5;241;43m=\u001b[39;49m\u001b[43mbody\u001b[49m\u001b[43m,\u001b[49m\u001b[43m \u001b[49m\u001b[43mheaders\u001b[49m\u001b[38;5;241;43m=\u001b[39;49m\u001b[43mheaders\u001b[49m\u001b[43m)\u001b[49m\n\u001b[1;32m    323\u001b[0m     statuscode \u001b[38;5;241m=\u001b[39m response\u001b[38;5;241m.\u001b[39mstatus\n\u001b[1;32m    324\u001b[0m \u001b[38;5;28;01melse\u001b[39;00m:\n",
      "File \u001b[0;32m~/pythonenv/py310/lib/python3.10/site-packages/urllib3/_request_methods.py:144\u001b[0m, in \u001b[0;36mRequestMethods.request\u001b[0;34m(self, method, url, body, fields, headers, json, **urlopen_kw)\u001b[0m\n\u001b[1;32m    136\u001b[0m     \u001b[38;5;28;01mreturn\u001b[39;00m \u001b[38;5;28mself\u001b[39m\u001b[38;5;241m.\u001b[39mrequest_encode_url(\n\u001b[1;32m    137\u001b[0m         method,\n\u001b[1;32m    138\u001b[0m         url,\n\u001b[0;32m   (...)\u001b[0m\n\u001b[1;32m    141\u001b[0m         \u001b[38;5;241m*\u001b[39m\u001b[38;5;241m*\u001b[39murlopen_kw,\n\u001b[1;32m    142\u001b[0m     )\n\u001b[1;32m    143\u001b[0m \u001b[38;5;28;01melse\u001b[39;00m:\n\u001b[0;32m--> 144\u001b[0m     \u001b[38;5;28;01mreturn\u001b[39;00m \u001b[38;5;28;43mself\u001b[39;49m\u001b[38;5;241;43m.\u001b[39;49m\u001b[43mrequest_encode_body\u001b[49m\u001b[43m(\u001b[49m\n\u001b[1;32m    145\u001b[0m \u001b[43m        \u001b[49m\u001b[43mmethod\u001b[49m\u001b[43m,\u001b[49m\u001b[43m \u001b[49m\u001b[43murl\u001b[49m\u001b[43m,\u001b[49m\u001b[43m \u001b[49m\u001b[43mfields\u001b[49m\u001b[38;5;241;43m=\u001b[39;49m\u001b[43mfields\u001b[49m\u001b[43m,\u001b[49m\u001b[43m \u001b[49m\u001b[43mheaders\u001b[49m\u001b[38;5;241;43m=\u001b[39;49m\u001b[43mheaders\u001b[49m\u001b[43m,\u001b[49m\u001b[43m \u001b[49m\u001b[38;5;241;43m*\u001b[39;49m\u001b[38;5;241;43m*\u001b[39;49m\u001b[43murlopen_kw\u001b[49m\n\u001b[1;32m    146\u001b[0m \u001b[43m    \u001b[49m\u001b[43m)\u001b[49m\n",
      "File \u001b[0;32m~/pythonenv/py310/lib/python3.10/site-packages/urllib3/_request_methods.py:279\u001b[0m, in \u001b[0;36mRequestMethods.request_encode_body\u001b[0;34m(self, method, url, fields, headers, encode_multipart, multipart_boundary, **urlopen_kw)\u001b[0m\n\u001b[1;32m    275\u001b[0m     extra_kw[\u001b[38;5;124m\"\u001b[39m\u001b[38;5;124mheaders\u001b[39m\u001b[38;5;124m\"\u001b[39m]\u001b[38;5;241m.\u001b[39msetdefault(\u001b[38;5;124m\"\u001b[39m\u001b[38;5;124mContent-Type\u001b[39m\u001b[38;5;124m\"\u001b[39m, content_type)\n\u001b[1;32m    277\u001b[0m extra_kw\u001b[38;5;241m.\u001b[39mupdate(urlopen_kw)\n\u001b[0;32m--> 279\u001b[0m \u001b[38;5;28;01mreturn\u001b[39;00m \u001b[38;5;28;43mself\u001b[39;49m\u001b[38;5;241;43m.\u001b[39;49m\u001b[43murlopen\u001b[49m\u001b[43m(\u001b[49m\u001b[43mmethod\u001b[49m\u001b[43m,\u001b[49m\u001b[43m \u001b[49m\u001b[43murl\u001b[49m\u001b[43m,\u001b[49m\u001b[43m \u001b[49m\u001b[38;5;241;43m*\u001b[39;49m\u001b[38;5;241;43m*\u001b[39;49m\u001b[43mextra_kw\u001b[49m\u001b[43m)\u001b[49m\n",
      "File \u001b[0;32m~/pythonenv/py310/lib/python3.10/site-packages/urllib3/poolmanager.py:444\u001b[0m, in \u001b[0;36mPoolManager.urlopen\u001b[0;34m(self, method, url, redirect, **kw)\u001b[0m\n\u001b[1;32m    442\u001b[0m     response \u001b[38;5;241m=\u001b[39m conn\u001b[38;5;241m.\u001b[39murlopen(method, url, \u001b[38;5;241m*\u001b[39m\u001b[38;5;241m*\u001b[39mkw)\n\u001b[1;32m    443\u001b[0m \u001b[38;5;28;01melse\u001b[39;00m:\n\u001b[0;32m--> 444\u001b[0m     response \u001b[38;5;241m=\u001b[39m \u001b[43mconn\u001b[49m\u001b[38;5;241;43m.\u001b[39;49m\u001b[43murlopen\u001b[49m\u001b[43m(\u001b[49m\u001b[43mmethod\u001b[49m\u001b[43m,\u001b[49m\u001b[43m \u001b[49m\u001b[43mu\u001b[49m\u001b[38;5;241;43m.\u001b[39;49m\u001b[43mrequest_uri\u001b[49m\u001b[43m,\u001b[49m\u001b[43m \u001b[49m\u001b[38;5;241;43m*\u001b[39;49m\u001b[38;5;241;43m*\u001b[39;49m\u001b[43mkw\u001b[49m\u001b[43m)\u001b[49m\n\u001b[1;32m    446\u001b[0m redirect_location \u001b[38;5;241m=\u001b[39m redirect \u001b[38;5;129;01mand\u001b[39;00m response\u001b[38;5;241m.\u001b[39mget_redirect_location()\n\u001b[1;32m    447\u001b[0m \u001b[38;5;28;01mif\u001b[39;00m \u001b[38;5;129;01mnot\u001b[39;00m redirect_location:\n",
      "File \u001b[0;32m~/pythonenv/py310/lib/python3.10/site-packages/urllib3/connectionpool.py:793\u001b[0m, in \u001b[0;36mHTTPConnectionPool.urlopen\u001b[0;34m(self, method, url, body, headers, retries, redirect, assert_same_host, timeout, pool_timeout, release_conn, chunked, body_pos, preload_content, decode_content, **response_kw)\u001b[0m\n\u001b[1;32m    790\u001b[0m response_conn \u001b[38;5;241m=\u001b[39m conn \u001b[38;5;28;01mif\u001b[39;00m \u001b[38;5;129;01mnot\u001b[39;00m release_conn \u001b[38;5;28;01melse\u001b[39;00m \u001b[38;5;28;01mNone\u001b[39;00m\n\u001b[1;32m    792\u001b[0m \u001b[38;5;66;03m# Make the request on the HTTPConnection object\u001b[39;00m\n\u001b[0;32m--> 793\u001b[0m response \u001b[38;5;241m=\u001b[39m \u001b[38;5;28;43mself\u001b[39;49m\u001b[38;5;241;43m.\u001b[39;49m\u001b[43m_make_request\u001b[49m\u001b[43m(\u001b[49m\n\u001b[1;32m    794\u001b[0m \u001b[43m    \u001b[49m\u001b[43mconn\u001b[49m\u001b[43m,\u001b[49m\n\u001b[1;32m    795\u001b[0m \u001b[43m    \u001b[49m\u001b[43mmethod\u001b[49m\u001b[43m,\u001b[49m\n\u001b[1;32m    796\u001b[0m \u001b[43m    \u001b[49m\u001b[43murl\u001b[49m\u001b[43m,\u001b[49m\n\u001b[1;32m    797\u001b[0m \u001b[43m    \u001b[49m\u001b[43mtimeout\u001b[49m\u001b[38;5;241;43m=\u001b[39;49m\u001b[43mtimeout_obj\u001b[49m\u001b[43m,\u001b[49m\n\u001b[1;32m    798\u001b[0m \u001b[43m    \u001b[49m\u001b[43mbody\u001b[49m\u001b[38;5;241;43m=\u001b[39;49m\u001b[43mbody\u001b[49m\u001b[43m,\u001b[49m\n\u001b[1;32m    799\u001b[0m \u001b[43m    \u001b[49m\u001b[43mheaders\u001b[49m\u001b[38;5;241;43m=\u001b[39;49m\u001b[43mheaders\u001b[49m\u001b[43m,\u001b[49m\n\u001b[1;32m    800\u001b[0m \u001b[43m    \u001b[49m\u001b[43mchunked\u001b[49m\u001b[38;5;241;43m=\u001b[39;49m\u001b[43mchunked\u001b[49m\u001b[43m,\u001b[49m\n\u001b[1;32m    801\u001b[0m \u001b[43m    \u001b[49m\u001b[43mretries\u001b[49m\u001b[38;5;241;43m=\u001b[39;49m\u001b[43mretries\u001b[49m\u001b[43m,\u001b[49m\n\u001b[1;32m    802\u001b[0m \u001b[43m    \u001b[49m\u001b[43mresponse_conn\u001b[49m\u001b[38;5;241;43m=\u001b[39;49m\u001b[43mresponse_conn\u001b[49m\u001b[43m,\u001b[49m\n\u001b[1;32m    803\u001b[0m \u001b[43m    \u001b[49m\u001b[43mpreload_content\u001b[49m\u001b[38;5;241;43m=\u001b[39;49m\u001b[43mpreload_content\u001b[49m\u001b[43m,\u001b[49m\n\u001b[1;32m    804\u001b[0m \u001b[43m    \u001b[49m\u001b[43mdecode_content\u001b[49m\u001b[38;5;241;43m=\u001b[39;49m\u001b[43mdecode_content\u001b[49m\u001b[43m,\u001b[49m\n\u001b[1;32m    805\u001b[0m \u001b[43m    \u001b[49m\u001b[38;5;241;43m*\u001b[39;49m\u001b[38;5;241;43m*\u001b[39;49m\u001b[43mresponse_kw\u001b[49m\u001b[43m,\u001b[49m\n\u001b[1;32m    806\u001b[0m \u001b[43m\u001b[49m\u001b[43m)\u001b[49m\n\u001b[1;32m    808\u001b[0m \u001b[38;5;66;03m# Everything went great!\u001b[39;00m\n\u001b[1;32m    809\u001b[0m clean_exit \u001b[38;5;241m=\u001b[39m \u001b[38;5;28;01mTrue\u001b[39;00m\n",
      "File \u001b[0;32m~/pythonenv/py310/lib/python3.10/site-packages/urllib3/connectionpool.py:537\u001b[0m, in \u001b[0;36mHTTPConnectionPool._make_request\u001b[0;34m(self, conn, method, url, body, headers, retries, timeout, chunked, response_conn, preload_content, decode_content, enforce_content_length)\u001b[0m\n\u001b[1;32m    535\u001b[0m \u001b[38;5;66;03m# Receive the response from the server\u001b[39;00m\n\u001b[1;32m    536\u001b[0m \u001b[38;5;28;01mtry\u001b[39;00m:\n\u001b[0;32m--> 537\u001b[0m     response \u001b[38;5;241m=\u001b[39m \u001b[43mconn\u001b[49m\u001b[38;5;241;43m.\u001b[39;49m\u001b[43mgetresponse\u001b[49m\u001b[43m(\u001b[49m\u001b[43m)\u001b[49m\n\u001b[1;32m    538\u001b[0m \u001b[38;5;28;01mexcept\u001b[39;00m (BaseSSLError, \u001b[38;5;167;01mOSError\u001b[39;00m) \u001b[38;5;28;01mas\u001b[39;00m e:\n\u001b[1;32m    539\u001b[0m     \u001b[38;5;28mself\u001b[39m\u001b[38;5;241m.\u001b[39m_raise_timeout(err\u001b[38;5;241m=\u001b[39me, url\u001b[38;5;241m=\u001b[39murl, timeout_value\u001b[38;5;241m=\u001b[39mread_timeout)\n",
      "File \u001b[0;32m~/pythonenv/py310/lib/python3.10/site-packages/urllib3/connection.py:466\u001b[0m, in \u001b[0;36mHTTPConnection.getresponse\u001b[0;34m(self)\u001b[0m\n\u001b[1;32m    463\u001b[0m \u001b[38;5;28;01mfrom\u001b[39;00m \u001b[38;5;21;01m.\u001b[39;00m\u001b[38;5;21;01mresponse\u001b[39;00m \u001b[38;5;28;01mimport\u001b[39;00m HTTPResponse\n\u001b[1;32m    465\u001b[0m \u001b[38;5;66;03m# Get the response from http.client.HTTPConnection\u001b[39;00m\n\u001b[0;32m--> 466\u001b[0m httplib_response \u001b[38;5;241m=\u001b[39m \u001b[38;5;28;43msuper\u001b[39;49m\u001b[43m(\u001b[49m\u001b[43m)\u001b[49m\u001b[38;5;241;43m.\u001b[39;49m\u001b[43mgetresponse\u001b[49m\u001b[43m(\u001b[49m\u001b[43m)\u001b[49m\n\u001b[1;32m    468\u001b[0m \u001b[38;5;28;01mtry\u001b[39;00m:\n\u001b[1;32m    469\u001b[0m     assert_header_parsing(httplib_response\u001b[38;5;241m.\u001b[39mmsg)\n",
      "File \u001b[0;32m~/.pyenv/versions/3.10.0/lib/python3.10/http/client.py:1368\u001b[0m, in \u001b[0;36mHTTPConnection.getresponse\u001b[0;34m(self)\u001b[0m\n\u001b[1;32m   1366\u001b[0m \u001b[38;5;28;01mtry\u001b[39;00m:\n\u001b[1;32m   1367\u001b[0m     \u001b[38;5;28;01mtry\u001b[39;00m:\n\u001b[0;32m-> 1368\u001b[0m         \u001b[43mresponse\u001b[49m\u001b[38;5;241;43m.\u001b[39;49m\u001b[43mbegin\u001b[49m\u001b[43m(\u001b[49m\u001b[43m)\u001b[49m\n\u001b[1;32m   1369\u001b[0m     \u001b[38;5;28;01mexcept\u001b[39;00m \u001b[38;5;167;01mConnectionError\u001b[39;00m:\n\u001b[1;32m   1370\u001b[0m         \u001b[38;5;28mself\u001b[39m\u001b[38;5;241m.\u001b[39mclose()\n",
      "File \u001b[0;32m~/.pyenv/versions/3.10.0/lib/python3.10/http/client.py:317\u001b[0m, in \u001b[0;36mHTTPResponse.begin\u001b[0;34m(self)\u001b[0m\n\u001b[1;32m    315\u001b[0m \u001b[38;5;66;03m# read until we get a non-100 response\u001b[39;00m\n\u001b[1;32m    316\u001b[0m \u001b[38;5;28;01mwhile\u001b[39;00m \u001b[38;5;28;01mTrue\u001b[39;00m:\n\u001b[0;32m--> 317\u001b[0m     version, status, reason \u001b[38;5;241m=\u001b[39m \u001b[38;5;28;43mself\u001b[39;49m\u001b[38;5;241;43m.\u001b[39;49m\u001b[43m_read_status\u001b[49m\u001b[43m(\u001b[49m\u001b[43m)\u001b[49m\n\u001b[1;32m    318\u001b[0m     \u001b[38;5;28;01mif\u001b[39;00m status \u001b[38;5;241m!=\u001b[39m CONTINUE:\n\u001b[1;32m    319\u001b[0m         \u001b[38;5;28;01mbreak\u001b[39;00m\n",
      "File \u001b[0;32m~/.pyenv/versions/3.10.0/lib/python3.10/http/client.py:278\u001b[0m, in \u001b[0;36mHTTPResponse._read_status\u001b[0;34m(self)\u001b[0m\n\u001b[1;32m    277\u001b[0m \u001b[38;5;28;01mdef\u001b[39;00m \u001b[38;5;21m_read_status\u001b[39m(\u001b[38;5;28mself\u001b[39m):\n\u001b[0;32m--> 278\u001b[0m     line \u001b[38;5;241m=\u001b[39m \u001b[38;5;28mstr\u001b[39m(\u001b[38;5;28;43mself\u001b[39;49m\u001b[38;5;241;43m.\u001b[39;49m\u001b[43mfp\u001b[49m\u001b[38;5;241;43m.\u001b[39;49m\u001b[43mreadline\u001b[49m\u001b[43m(\u001b[49m\u001b[43m_MAXLINE\u001b[49m\u001b[43m \u001b[49m\u001b[38;5;241;43m+\u001b[39;49m\u001b[43m \u001b[49m\u001b[38;5;241;43m1\u001b[39;49m\u001b[43m)\u001b[49m, \u001b[38;5;124m\"\u001b[39m\u001b[38;5;124miso-8859-1\u001b[39m\u001b[38;5;124m\"\u001b[39m)\n\u001b[1;32m    279\u001b[0m     \u001b[38;5;28;01mif\u001b[39;00m \u001b[38;5;28mlen\u001b[39m(line) \u001b[38;5;241m>\u001b[39m _MAXLINE:\n\u001b[1;32m    280\u001b[0m         \u001b[38;5;28;01mraise\u001b[39;00m LineTooLong(\u001b[38;5;124m\"\u001b[39m\u001b[38;5;124mstatus line\u001b[39m\u001b[38;5;124m\"\u001b[39m)\n",
      "File \u001b[0;32m~/.pyenv/versions/3.10.0/lib/python3.10/socket.py:705\u001b[0m, in \u001b[0;36mSocketIO.readinto\u001b[0;34m(self, b)\u001b[0m\n\u001b[1;32m    703\u001b[0m \u001b[38;5;28;01mwhile\u001b[39;00m \u001b[38;5;28;01mTrue\u001b[39;00m:\n\u001b[1;32m    704\u001b[0m     \u001b[38;5;28;01mtry\u001b[39;00m:\n\u001b[0;32m--> 705\u001b[0m         \u001b[38;5;28;01mreturn\u001b[39;00m \u001b[38;5;28;43mself\u001b[39;49m\u001b[38;5;241;43m.\u001b[39;49m\u001b[43m_sock\u001b[49m\u001b[38;5;241;43m.\u001b[39;49m\u001b[43mrecv_into\u001b[49m\u001b[43m(\u001b[49m\u001b[43mb\u001b[49m\u001b[43m)\u001b[49m\n\u001b[1;32m    706\u001b[0m     \u001b[38;5;28;01mexcept\u001b[39;00m timeout:\n\u001b[1;32m    707\u001b[0m         \u001b[38;5;28mself\u001b[39m\u001b[38;5;241m.\u001b[39m_timeout_occurred \u001b[38;5;241m=\u001b[39m \u001b[38;5;28;01mTrue\u001b[39;00m\n",
      "\u001b[0;31mKeyboardInterrupt\u001b[0m: "
     ]
    }
   ],
   "source": [
    "for sub_url in category_sub_URLs:\n",
    "    full_category_url = f\"{base_url}{sub_url}\"\n",
    "    go_to_category(driver, full_category_url)\n",
    "    urls = gather_article_urls(driver)\n",
    "    scrape_articles(driver, urls)\n",
    "    break \n",
    "    \n",
    "# Close the driver after scraping\n",
    "driver.quit()"
   ]
  },
  {
   "cell_type": "code",
   "execution_count": null,
   "metadata": {},
   "outputs": [
    {
     "data": {
      "text/plain": [
       "{'https://www.todayonline.com/news/2-men-arrested-fight-dangerous-weapon-tiong-bahru-2431576': 'SINGAPORE — Two men were arrested for affray after they were seen engaging in a fight in Tiong Bahru on Tuesday (May 28). One of the men was also arrested for causing hurt with a dangerous weapon.\\nThe roadside altercation was captured in an online video. It is unclear what caused the fight. \\nThe police told TODAY on Wednesday that they received a call for assistance at Block 54 Havelock Road at 12.05pm on Tuesday.\\nTwo men, aged 38 and 62, were arrested for affray. The older man was also arrested for voluntarily causing hurt by a dangerous weapon. A screwdriver was seized by police.\\nBoth sustained minor injuries but refused conveyance to the hospital. \\nAffray is fighting in public in a way that disturbs the peace.\\nPolice investigations are ongoing. \\nIn a 43-second video published on Facebook group SG Road Vigilante, the 62-year-old man in a white shirt was seen charging at the younger man, brandishing what appears to be a sharp object.\\nAs his arms flail, the 38-year-old man, wearing a helmet and a long-sleeved shirt, tries to block the attack and kick the other man. An elderly woman looks on. \\nAt one point, the older man falls to the ground, but quickly gets up and readies himself for the next move. \\nThe younger man takes out his phone, presumably to record the scene, and yells at the 62-year-old. \\nThe man in the white shirt goes after the younger man again and appears to be making stabbing gestures.\\nThe video carried a caption which read in part: \"Road rage motorcyclist and driver fighting\".',\n",
       " 'https://www.todayonline.com/news/explainer-more-travel-hot-spots-are-imposing-surcharges-curb-overtourism-what-does-mean-travellers-2430431': 'SINGAPORE — In recent weeks, several cities around the world that are popular with tourists have introduced steps to deal with the issue of overtourism, typically in response to backlash by the resident population.\\nSome cities in Europe, for example, saw people staging protests and putting up signs telling tourists that they are not welcome.\\nIn response, governments have implemented surcharges, welcomed tourists only on certain days, or temporarily disallowed them altogether.\\nThe Italian city of Venice in late April began trialling a reservation-and-fee system, where visitors need to pay a token €5 (S$7.30) to enter the city on certain peak days, to mitigate damage arising from overtourism.\\nIn Japan, a town put up a large mesh at a viewing spot for Mount Fuji to curtail the growing congregation of foreign visitors who litter, trespass and break traffic rules in the area. The number of hikers on the most popular route up the mountain will also be capped this summer to ease congestion.\\nTODAY takes a closer look at the problem of overtourism and asks analysts whether such fees and restrictions are effective. And if overtourism becomes a long-term problem, will travellers have to keep paying more?\\nIn its simplest terms, overtourism happens when there is an excess of visitors to a destination to the extent that the benefits of tourism are overshadowed by its harm.\\nThe harm can come in the form of inconveniences to residents due to congestion, strain on infrastructure or even damage to the physical environment by misbehaving tourists, for example.\\nMr Christopher Khoo, the managing director of tourism consultancy MasterConsult Services, observed that \"there were already clanging alarm bells\" about overtourism in the years leading up to the Covid-19 pandemic.\\nOn what is causing the problem to rear its ugly head in more recent times, analysts pointed to a pent-up demand owing to travel restrictions during the pandemic, as well as growing affluence.\\nThis is further enabled by airlines increasing their capacity to popular destinations to cater to this demand, another analyst said.\\nMr Joshua Loh, course chair of Ngee Ann Polytechnic’s diploma in tourism and resort management course, added: “As airlines have added more regular flight services, the greater accessibility has made it increasingly convenient for tourists to visit these destinations.”\\nHe also said that some people may have “more accumulated disposable income” to splurge on travelling now, since they were unable to do so during the pandemic.\\nTourism geographer Zhang Jiajie said that the “growing middle class” in the Asian region is also expected to further boost tourist numbers.\\nThe assistant professor from the National Institute of Education (NIE) with the Nanyang Technological University (NTU) said that interest in certain places has been partially contributed by influencers on social media channels, “combined with the fear-of-missing-out mentality”.\\nOne example he gave was the Liziba monorail train station in Chongqing, China, which was built in the middle floor of a 19-storey building. \\nThe station was built in the early 2000s, but the sight of the trains cutting through the building has become the subject of several viral videos in recent years.\\nThe experts said that charging extra fees on tourists alone is generally not effective as a deterrent. This is because the amount is usually not “overly onerous” on tourists, particularly those travelling long haul who are prepared to spend big for their trips.\\nHowever, the charges can still be beneficial since the money can be channelled into maintaining and conserving popular tourist destinations, or to generate income for the resident population.\\nMr Loh of Ngee Ann Polytechnic said that limiting the number of visitors may not be popular but it may be “necessary”, especially to protect more environmentally fragile or culturally sensitive destinations.\\n“Having a sensible cap on the number of visitors together with a strong maintenance regime can ensure the viability of these areas for the long term,” he added.\\nDr Wong King Yin, senior lecturer of marketing at Nanyang Business School in NTU, pointed out that where such fees and restrictions come in handy in destination management is in the pre-registration process involved.\\n“The pre-registration process can help the destination have a better idea on the flow of tourists and whether the number of visitors might exceed the capacity.”\\nDr Wong is also deputy director at the Nanyang Centre for Marketing and Technology at NTU.\\nHe added that regardless of the measures taken, the rationale must be sufficiently communicated to potential visitors.\\n“Without clear explanations of why your city is charging extra fee or imposing restrictions, visitors including those high-quality ones who could bring more benefits than harms to the destination might feel unwelcomed and choose other destinations that welcome them.”\\nAsst Prof Zhang from NIE said that imposing extra fees may also lead to unintended effects.\\n“Such fees may inculcate a ‘pay to pollute’ mentality among tourists, something similar to the criticism faced by the carbon credit market.”\\nThe bottomline, the analysts said, is that such measures may work only in the short term and would be more effective when coupled with more comprehensive measures.\\nThe analysts generally agreed that tourist numbers will only rise further.\\nWhether overtourism will become a long-term problem remains anyone\\'s guess, although those such as Mr Khoo from MasterConsult Services said that consciousness towards the resident environment in tourism is here to stay.\\n\"Tour operators, airlines, attractions and even restaurants are all trumpeting their green credentials to attract the discerning and socially conscious consumers. And it will only become more pronounced and important in the years ahead.\"\\nThis may manifest in the form of restrictions such as limiting visitor numbers and hours, or imposing surcharges that are \"a quick way\" to stem the flow of travellers, Mr Khoo added.\\nDr Kevin Cheong, managing partner of tourism and destination development consultancy Syntegrate, believes that surcharges and restrictions might become more commonplace.\\n\"We should expect more of such things because the examples have been set already and other people experiencing overtourism might consider these penalties or surcharges,\" he said.\\nAs a result of this, tourists may not only see a rise in travelling costs, but tour companies, for example, may adjust their packages and include alternative places that offer similar experiences without being subject to surcharges or visitor restrictions, he added.\\nOverall, the experts foresee that popular destinations may likely come up with more comprehensive longer-term measures.\\nOne way is by looking into digital solutions such as mobile applications that give tourists real-time information of crowd levels at popular spots.\\nAsst Prof Zhang from NIE suggested using technology to allow would-be visitors to experience the attraction without being physically there.\\n“I recently travelled to Kinmen, Taiwan and observed how the Kinmen National Park managed visitor numbers to the popular blue-tailed bee-eater watching spots — by providing live coverage of the bird’s habitat on its website for free,” he said. \\n“People can stay in the comfort of their homes while experiencing birdwatching online.”\\nTaking a bigger-picture view, Dr Wong from NTU suggested that countries may want to increase marketing efforts for people to visit less popular spots, in order to better spread the crowd.\\n“Many influencers and key opinion leaders nowadays like to explore less-known areas and attractions for their audience. And many followers like such less-crowded recommendations,” he said.\\nIn the long run, problems arising from overtourism can be better managed through various stakeholders working together and putting in place measures such as public education, proper master planning and requiring all new tourism projects to undergo environmental assessment studies, Mr Loh of Ngee Ann Polytechnic said.\\n“The stakeholders will need to work closely together to restore the balance whereby tourism not only generates economic benefits for the destination, but also helps to regenerate, rather than degrade, the environment and the local community.”',\n",
       " 'https://www.todayonline.com/news/migrant-worker-fired-over-loan-shark-harassment-faces-deportation-after-being-unable-find-job-2431046': 'SINGAPORE — A migrant worker who was terminated by his employer in March after being harassed by purported \"loan sharks\", although he denied ever borrowing any money, is now required to leave Singapore by the end of the month.\\nThe Bangladeshi worker, Mr Md Sharif Uddin, 46, told TODAY that he was informed by the police on May 23 that they had \"exhausted all available leads\". \\nIn response to TODAY\\'s queries, the Ministry of Manpower (MOM) and the Singapore Police Force confirmed that \"extensive investigations\" were conducted to identify the alleged person who had harassed Mr Sharif as well as his former and potential employers.\\nThe police have not found any evidence that Mr Sharif had borrowed from unlicensed moneylenders.\\nThe joint statement also outlined the support given to him during his stay.\\nSpeaking to TODAY on Monday, Mr Sharif said that he had pleaded to the police and the Immigration and Checkpoints Authority (ICA) to let him stay here for a month in order for him to find a job.\\nHe said that ICA, during a meeting with him on May 24, had given him three days to leave the country but extended the period to seven days after his pleas. He will have to depart Singapore by May 31.\\nMr Sharif’s case had been under investigation after he filed a police report in March over the harassment he faced, which included debtor’s notes addressed to Mr Sharif at the home of his ex-employer’s daughter. \\nThe incident prompted his former company Hiap Seng Piling Construction to raise the issue with the authorities. \\nWhile Mr Sharif denied ever taking any loan, the company terminated his employment and said in the termination letter that it was done “under police and MOM officer advice”. \\nThe police and MOM clarified at the time that this was not the case, in response to TODAY’s queries last month. The authorities also said then that they had reached out to Mr Sharif “to address his concerns and offer our assistance”.\\nAfter his termination, the authorities allowed Mr Sharif to stay in Singapore on a Special Pass, which expired on May 24, to assist with investigations. \\nThis pass, which legalises a foreigner’s stay in Singapore, is issued for a specific purpose such as assisting in investigation, attending court and for stateless persons residing in Singapore. MOM and ICA are the issuing authorities for the pass card.\\nIn a video published on social media last Saturday, Mr Sharif said that he was allowed to apply for a job under the Temporary Jobs Scheme by MOM. \\nMOM\\'s website states that a migrant worker required to stay in Singapore to assist in investigations can apply for a job under the scheme, although this would be subject to the ministry’s approval.\\nMr Sharif, known for his writing and his efforts to raise awareness about the challenges faced by migrant workers over the past 16 years here, also claimed in the video that he was given the “commitment” from the authorities that he could stay in Singapore to look for a new job once the investigations are over. \\nHowever, after meeting the police on Friday morning at ICA\\'s headquarters, Mr Sharif was told that he had to leave in three days. \\n“I asked to stay for one more month to look for a job, but they said they cannot (allow that) now that the investigations are over,” he told TODAY. \\n“Three days is too short. It would be easier to find a job if I’m still in Singapore because I can contact employers and attend interviews.” \\nHe added that he has had difficulties securing a suitable job since the work termination in March.\\nMOM had given him a list of seven agencies that he could approach for jobs. Although some offered jobs outside his industry, one agency, in a reply to him seen by TODAY, specifically told him that it was unable to help because the firm “only accept Temporary Jobs Scheme worker holders, not police case”.\\nMr Sharif is concerned that if he returns home, it would be doubly difficult for him to find a job here again — because he fears that his work pass application might be rejected. \\nHe was later granted a slightly longer stay until May 31.\\nIn the video published online, Mr Sharif said that he urgently needs a job because he has to support his wife, who requires multiple surgeries for various health conditions such as hernia and gallstone removal. \\n“I have run out of funds and will not be able to support my family unless I find work soon,” he said in the video. \\nHe also has an eight-month-old child back home.\\nWorkers\\' rights group Workers Make Possible, which started a petition in April to stop him from being deported, and non-government organisation Humanitarian Organisation for Migration Economics (Home) have tried to help Mr Sharif.\\nMs Kokila Annamalai, a spokesperson for Workers Make Possible, said that it has worked with other groups to appeal to MOM to grant Mr Sharif a longer extension, but the appeal has been rejected.\\n“We will continue to work towards him returning to Singapore with a new job, or if he chooses to stay in Bangladesh, we will see what his immediate and longer-term needs are and how best to support him with rebuilding his life there,” she added.\\nHome\\'s executive director Stephanie Chok said that it had appealed to MOM on May 24 to give Mr Sharif a grace period to find another job here, but the ministry replied on Monday, maintaining its position.\\nMs Chok added that migrant workers who are victims should be given a fair chance and adequate time to seek re-employment. \\n“(Mr) Sharif\\'s situation shows the ‘deportability’ of migrant workers, even when they are victims,” she continued.\\n“As Home has previously encountered migrant workers who find themselves unable to process their work permit applications once they return to their country, we hope that (Mr) Sharif will not be blacklisted or face any other administrative hurdles in obtaining a successful work pass application.” \\nIn a joint statement on Tuesday to TODAY\\'s queries, the authorities confirmed that police investigations into the harassment case have concluded.\\nThey said: \"Extensive investigations were conducted, including detailed interviews and forensic examinations of evidence to establish the identity and motive of the alleged harasser, who had not only harassed Mr Sharif, but his former and potential employers as well.\"\\nThey added: \"The police have not found any evidence to suggest that Mr Sharif had borrowed from unlicensed moneylenders and have exhausted all leads to identify the alleged harasser.\"\\nMr Sharif\\'s former employer had covered his accommodation and meals expenses, they noted, and that he was also allowed to seek employment under the Temporary Jobs Scheme.\\n\"Mr Sharif was informed of this and an email was also sent to him to confirm his eligibility to work,\" the statement added.\\nThe authorities said that MOM and the Migrant Workers\\' Centre had reached out to him to check on his well-being and linked him up with employment agencies to support his job search.\\n\"Mr Sharif had expressed his preference to be a safety coordinator in the construction industry, but he was unable to secure such offers; we also understand that he had declined job offers for non-construction roles.\"\\nAs for the looming departure date, the authorities confirmed that Mr Sharif\\'s Special Pass expired on May 24 and was initially extended to May 27.\\n\"This is aligned with the usual approach taken in such cases,\" they said.\\n\"Mr Sharif then requested additional time beyond May 27 to make the arrangements. The authorities acceded to his request for a further extension of his Special Pass to May 31, 2024, given the circumstances of his case.\"'}"
      ]
     },
     "execution_count": 76,
     "metadata": {},
     "output_type": "execute_result"
    }
   ],
   "source": [
    "article_body"
   ]
  }
 ],
 "metadata": {
  "kernelspec": {
   "display_name": "py310",
   "language": "python",
   "name": "python3"
  },
  "language_info": {
   "codemirror_mode": {
    "name": "ipython",
    "version": 3
   },
   "file_extension": ".py",
   "mimetype": "text/x-python",
   "name": "python",
   "nbconvert_exporter": "python",
   "pygments_lexer": "ipython3",
   "version": "3.10.0"
  }
 },
 "nbformat": 4,
 "nbformat_minor": 2
}
